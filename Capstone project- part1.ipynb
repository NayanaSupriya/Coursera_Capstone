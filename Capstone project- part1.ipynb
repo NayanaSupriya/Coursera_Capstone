{
 "cells": [
  {
   "cell_type": "markdown",
   "metadata": {},
   "source": [
    "# APPLIED DATA SCIENCE CAPSTONE PROJECT- PART 1"
   ]
  },
  {
   "cell_type": "markdown",
   "metadata": {},
   "source": [
    "# Identifying the best locations for opening a new shopping mall in Mumbai,India"
   ]
  },
  {
   "cell_type": "markdown",
   "metadata": {},
   "source": [
    "# INTRODUCTION"
   ]
  },
  {
   "cell_type": "markdown",
   "metadata": {},
   "source": [
    "Shopping malls are conceived as one stop destination for the consumer needs of a catchment area. A performing mall indicates the economic prosperity of a given trading area, territory or a region. However, almost 90% of the time it is seen that the malls fail to attract the targeted customers resulting thereby in failures forcing developers to change the use of the property at a later stage. A mall located in a high trading area with dense catchment helps in sustainability and profitability to the stores. For some customers shopping mall is a place for relaxing & enjoying with friends & family during weekend, while on the other hand some customers visit the shopping mall due to brand mix, entertainment options,housekeeping, parking, mall atmospherics diversity of categories, convenience of shopping and physical design of the building. A good performing mall would always have low vacancies, can command higher rentals per square feet and would be the favorite destination for good brands. The brand churn would be low thus offering a profitable proposition to all the investors, retailers & developers. However, a mall can be judged as a performing mall by finding out the trading density in terms of overall sales per sq ft of all the stores operating from the mall, average monthly footfalls coming to the mall and placement of diverse categories. Further, site location, scale and size are the primary factors defining the development of every shopping mall. Accessibility and transport connectivity by car, public transport and service vehicles, the lack of which affects not only customer footfalls but also the efficient delivery of goods and services to the stores located in the mall.Visibility from approaching roadways, and proximity to a good road network that also connects the physical catchment with its potential residential population. Developement of a shopping mall attracts a huge sum of money, which has to be invested by the investors & developer in order to aquire land, construction, marketing & running a shopping mall. "
   ]
  },
  {
   "cell_type": "markdown",
   "metadata": {},
   "source": [
    "# BUSINESS PROBLEM"
   ]
  },
  {
   "cell_type": "markdown",
   "metadata": {},
   "source": [
    "Mumbai is one of the largest markets for the luxury residential real estate in India. In line with strong growth commercial activity in central Mumbai areas like Worli, Lower Parel and Prabhadevi, demand for luxury residential segment had started to pick up in the past. Many developers, including the organised ones, beefed up the supply in the micro market expecting further boost in demand. However, due to weakened demand for over the last two to three years, central Mumbai has witnessed significantly high value inventory build up.Residential real estate sector in India has been undergoing difficult times over the last few years and the luxury segment has been the most impacted segment. Various regulatory developments as well as market dynamics have been the reasons for weak performance of the luxury segment.The NBFC crisis, which became prominent from second half of last fiscal, has further exacerbated the liquidity of the sector. High cost of land and construction, weak demand, back-ended customer advances, and limited avenues of external funding together have pushed the luxury residential real estate segment into distress. As its quite evident that the market sentiment of residential real estate is the driving forces of success or failure of a retail real estate venture, for this instance shopping mall. Inspite of all this distress & weakened demand in the residential real estate market here is the priciest because Mumbai is famous worldwide as the financial capital of India. Further, given the unfavourable condition of market sentiment in real estate, our objective is to find solution to following business problem - \"To Identify the best locations for opening a new shopping mall in Mumbai, India\". To achieve this objective we will use Data Science tools & techniques such as machine learning, clustering, data visualization etc."
   ]
  },
  {
   "cell_type": "markdown",
   "metadata": {},
   "source": [
    "# DATA AND DATA SOURCES"
   ]
  },
  {
   "cell_type": "markdown",
   "metadata": {},
   "source": [
    "### To solve this problem, we require the following data sets:"
   ]
  },
  {
   "cell_type": "markdown",
   "metadata": {},
   "source": [
    "#### 1. List of Neighborhoods in Mumbai.\n",
    "\n",
    "(Source - https://en.wikipedia.org/wiki/List_of_neighbourhoods_in_Mumbai)\n",
    "\n",
    "The above source page consists of list of 38 neighborhoods in Mumbai. <br>\n",
    "We will use python requests & beautifulsoup package for web scraping technique to extract data from wikipedia page.<br>\n",
    "Further, we will use python geocoder package to get geographical co-ordinates of the neighborhoods.\n"
   ]
  },
  {
   "cell_type": "markdown",
   "metadata": {},
   "source": [
    "#### 2. Foursquare Developers Access to venue data\n",
    "\n",
    "(Source - https://foursquare.com)\n",
    "\n",
    "From Foursquare API we will get the venue data for the neighbourhoods in Mumbai, however Foursquare API provide multiple categories of venue data but for this business problem, data pertaining to shopping mall category is relevant for us. Further, we will use various Data science tools & techniques like web scraping(Wikipedia), data wrangling, data cleaning, working with API (Foursquare API), clustering (K-means clustering) & data visualization (Folium) to attain solution of the predefined business problem."
   ]
  },
  {
   "cell_type": "code",
   "execution_count": null,
   "metadata": {},
   "outputs": [],
   "source": []
  }
 ],
 "metadata": {
  "kernelspec": {
   "display_name": "Python",
   "language": "python",
   "name": "conda-env-python-py"
  },
  "language_info": {
   "codemirror_mode": {
    "name": "ipython",
    "version": 3
   },
   "file_extension": ".py",
   "mimetype": "text/x-python",
   "name": "python",
   "nbconvert_exporter": "python",
   "pygments_lexer": "ipython3",
   "version": "3.6.7"
  }
 },
 "nbformat": 4,
 "nbformat_minor": 4
}
